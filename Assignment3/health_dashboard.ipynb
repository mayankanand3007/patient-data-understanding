{
 "cells": [
  {
   "cell_type": "markdown",
   "id": "9f943a2a",
   "metadata": {},
   "source": [
    "# Fetching Data and Basic Statistics"
   ]
  },
  {
   "cell_type": "code",
   "execution_count": 1,
   "id": "f8de22a6",
   "metadata": {},
   "outputs": [],
   "source": [
    "import pandas as pd\n",
    "import matplotlib.pyplot as plt\n",
    "import seaborn as sns"
   ]
  },
  {
   "cell_type": "code",
   "execution_count": 4,
   "id": "13635dfc",
   "metadata": {},
   "outputs": [],
   "source": [
    "df = pd.read_csv('Health_Data_Cleaned.csv')"
   ]
  },
  {
   "cell_type": "code",
   "execution_count": 5,
   "id": "2427a8cb",
   "metadata": {},
   "outputs": [
    {
     "data": {
      "text/html": [
       "<div>\n",
       "<style scoped>\n",
       "    .dataframe tbody tr th:only-of-type {\n",
       "        vertical-align: middle;\n",
       "    }\n",
       "\n",
       "    .dataframe tbody tr th {\n",
       "        vertical-align: top;\n",
       "    }\n",
       "\n",
       "    .dataframe thead th {\n",
       "        text-align: right;\n",
       "    }\n",
       "</style>\n",
       "<table border=\"1\" class=\"dataframe\">\n",
       "  <thead>\n",
       "    <tr style=\"text-align: right;\">\n",
       "      <th></th>\n",
       "      <th>metric_name</th>\n",
       "      <th>group_name</th>\n",
       "      <th>data_period</th>\n",
       "      <th>est</th>\n",
       "      <th>lci</th>\n",
       "      <th>uci</th>\n",
       "      <th>geo_name</th>\n",
       "      <th>state_abbr</th>\n",
       "      <th>period_type</th>\n",
       "      <th>source_name</th>\n",
       "    </tr>\n",
       "  </thead>\n",
       "  <tbody>\n",
       "    <tr>\n",
       "      <th>0</th>\n",
       "      <td>Binge Drinking</td>\n",
       "      <td>Total</td>\n",
       "      <td>2022</td>\n",
       "      <td>18.6</td>\n",
       "      <td>16.3</td>\n",
       "      <td>20.9</td>\n",
       "      <td>Hawaii</td>\n",
       "      <td>HI</td>\n",
       "      <td>1 year modeled estimate</td>\n",
       "      <td>PLACES</td>\n",
       "    </tr>\n",
       "    <tr>\n",
       "      <th>1</th>\n",
       "      <td>Binge Drinking</td>\n",
       "      <td>Total</td>\n",
       "      <td>2022</td>\n",
       "      <td>18.7</td>\n",
       "      <td>16.8</td>\n",
       "      <td>20.6</td>\n",
       "      <td>Honolulu</td>\n",
       "      <td>HI</td>\n",
       "      <td>1 year modeled estimate</td>\n",
       "      <td>PLACES</td>\n",
       "    </tr>\n",
       "    <tr>\n",
       "      <th>2</th>\n",
       "      <td>Binge Drinking</td>\n",
       "      <td>Total</td>\n",
       "      <td>2022</td>\n",
       "      <td>17.3</td>\n",
       "      <td>15.1</td>\n",
       "      <td>19.5</td>\n",
       "      <td>Kauai</td>\n",
       "      <td>HI</td>\n",
       "      <td>1 year modeled estimate</td>\n",
       "      <td>PLACES</td>\n",
       "    </tr>\n",
       "    <tr>\n",
       "      <th>3</th>\n",
       "      <td>Binge Drinking</td>\n",
       "      <td>Total</td>\n",
       "      <td>2022</td>\n",
       "      <td>17.7</td>\n",
       "      <td>15.6</td>\n",
       "      <td>19.8</td>\n",
       "      <td>Maui</td>\n",
       "      <td>HI</td>\n",
       "      <td>1 year modeled estimate</td>\n",
       "      <td>PLACES</td>\n",
       "    </tr>\n",
       "    <tr>\n",
       "      <th>4</th>\n",
       "      <td>Binge Drinking</td>\n",
       "      <td>Total</td>\n",
       "      <td>2022</td>\n",
       "      <td>17.0</td>\n",
       "      <td>14.3</td>\n",
       "      <td>19.7</td>\n",
       "      <td>Auburn</td>\n",
       "      <td>AL</td>\n",
       "      <td>1 year modeled estimate</td>\n",
       "      <td>PLACES</td>\n",
       "    </tr>\n",
       "  </tbody>\n",
       "</table>\n",
       "</div>"
      ],
      "text/plain": [
       "      metric_name group_name  data_period   est   lci   uci  geo_name  \\\n",
       "0  Binge Drinking      Total         2022  18.6  16.3  20.9    Hawaii   \n",
       "1  Binge Drinking      Total         2022  18.7  16.8  20.6  Honolulu   \n",
       "2  Binge Drinking      Total         2022  17.3  15.1  19.5     Kauai   \n",
       "3  Binge Drinking      Total         2022  17.7  15.6  19.8      Maui   \n",
       "4  Binge Drinking      Total         2022  17.0  14.3  19.7    Auburn   \n",
       "\n",
       "  state_abbr              period_type source_name  \n",
       "0         HI  1 year modeled estimate      PLACES  \n",
       "1         HI  1 year modeled estimate      PLACES  \n",
       "2         HI  1 year modeled estimate      PLACES  \n",
       "3         HI  1 year modeled estimate      PLACES  \n",
       "4         AL  1 year modeled estimate      PLACES  "
      ]
     },
     "execution_count": 5,
     "metadata": {},
     "output_type": "execute_result"
    }
   ],
   "source": [
    "df.head()"
   ]
  },
  {
   "cell_type": "code",
   "execution_count": null,
   "id": "cf43276e",
   "metadata": {},
   "outputs": [],
   "source": [
    "df.columns"
   ]
  },
  {
   "cell_type": "code",
   "execution_count": null,
   "id": "0c48b762",
   "metadata": {},
   "outputs": [],
   "source": [
    "df = df[['metric_name', 'data_period', 'est', 'lci', 'uci',\n",
    "       'geo_name', 'state_abbr', 'period_type', 'source_name']]"
   ]
  },
  {
   "cell_type": "code",
   "execution_count": null,
   "id": "656e5e81",
   "metadata": {},
   "outputs": [],
   "source": [
    "df.shape"
   ]
  },
  {
   "cell_type": "code",
   "execution_count": null,
   "id": "9d0f7444",
   "metadata": {},
   "outputs": [],
   "source": [
    "df.head()"
   ]
  },
  {
   "cell_type": "code",
   "execution_count": null,
   "id": "36caaa0d",
   "metadata": {},
   "outputs": [],
   "source": [
    "df.info()"
   ]
  },
  {
   "cell_type": "code",
   "execution_count": null,
   "id": "1172674d",
   "metadata": {},
   "outputs": [],
   "source": [
    "df.describe()"
   ]
  },
  {
   "cell_type": "markdown",
   "id": "f5c87c64",
   "metadata": {},
   "source": [
    "# Hypothesis Generation and Testing"
   ]
  },
  {
   "cell_type": "markdown",
   "id": "e9a8d123",
   "metadata": {},
   "source": [
    "## 1. Which cities have the highest and lowest rates of chronic health conditions like obesity, diabetes, and high blood pressure?"
   ]
  },
  {
   "cell_type": "code",
   "execution_count": null,
   "id": "697a0f26",
   "metadata": {},
   "outputs": [],
   "source": [
    "# 1. Top and Bottom Cities by Obesity Rate\n",
    "obesity = df[df['metric_name'] == 'Obesity']\n",
    "top_cities = obesity.sort_values(by='est', ascending=False).head(10)\n",
    "bottom_cities = obesity.sort_values(by='est', ascending=True).head(10)\n"
   ]
  },
  {
   "cell_type": "code",
   "execution_count": null,
   "id": "7fa7b0a8",
   "metadata": {},
   "outputs": [],
   "source": [
    "sns.barplot(data=top_cities.head(10), x='est', y='geo_name', hue='geo_name', palette='flare', legend=False)"
   ]
  },
  {
   "cell_type": "code",
   "execution_count": null,
   "id": "fbe394b3",
   "metadata": {},
   "outputs": [],
   "source": [
    "sns.barplot(data=bottom_cities.head(10), x='est', y='geo_name', hue='geo_name', palette=\"YlOrBr\", legend=False)"
   ]
  },
  {
   "cell_type": "markdown",
   "id": "868e7bc6",
   "metadata": {},
   "source": [
    "## 2. Is there a correlation between frequent mental distress and chronic physical health issues like diabetes or cardiovascular disease?"
   ]
  },
  {
   "cell_type": "code",
   "execution_count": null,
   "id": "402e31ec",
   "metadata": {},
   "outputs": [],
   "source": [
    "# 2. Correlation: Mental Distress vs Diabetes\n",
    "mental = df[df['metric_name'] == 'Frequent Mental Distress'][['geo_name', 'est']].rename(columns={'est': 'mental_distress'})\n",
    "diabetes = df[df['metric_name'] == 'Diabetes'][['geo_name', 'est']].rename(columns={'est': 'diabetes'})\n",
    "\n",
    "merged = pd.merge(mental, diabetes, on='geo_name')\n",
    "correlation = merged[['mental_distress', 'diabetes']].corr()"
   ]
  },
  {
   "cell_type": "code",
   "execution_count": null,
   "id": "c0f2bc48",
   "metadata": {},
   "outputs": [],
   "source": [
    "sns.heatmap(correlation)"
   ]
  },
  {
   "cell_type": "markdown",
   "id": "24078480",
   "metadata": {},
   "source": [
    "## 3. Do cities with higher rates of firearm suicides also have higher rates of mental distress or binge drinking?"
   ]
  },
  {
   "cell_type": "code",
   "execution_count": null,
   "id": "ee5cb26c",
   "metadata": {},
   "outputs": [],
   "source": [
    "# 3. Firearm Suicides vs Binge Drinking or Mental Distress\n",
    "firearm = df[df['metric_name'] == 'Firearm Suicides'][['geo_name', 'est']].rename(columns={'est': 'firearm_suicide'})\n",
    "binge = df[df['metric_name'] == 'Binge Drinking'][['geo_name', 'est']].rename(columns={'est': 'binge_drinking'})\n",
    "mental = mental  # from previous\n",
    "\n",
    "merged = firearm.merge(binge, on='geo_name').merge(mental, on='geo_name')\n",
    "correlation_matrix = merged.corr()"
   ]
  },
  {
   "cell_type": "code",
   "execution_count": null,
   "id": "f1295773",
   "metadata": {},
   "outputs": [],
   "source": [
    "sns.heatmap(correlation_matrix)"
   ]
  },
  {
   "cell_type": "markdown",
   "id": "740f5dc6",
   "metadata": {},
   "source": [
    "## 4.\tWhat is the geographic distribution of frequent mental distress across states?"
   ]
  },
  {
   "cell_type": "code",
   "execution_count": null,
   "id": "8d4e8422",
   "metadata": {},
   "outputs": [],
   "source": [
    "# Filter for frequent mental distress\n",
    "distress_state_avg = df[df['metric_name'] == 'Frequent Mental Distress']\n",
    "\n",
    "# Group by state and average\n",
    "state_distress = distress_state_avg.groupby('state_abbr')['est'].mean().reset_index()\n",
    "\n",
    "# Plot\n",
    "plt.figure(figsize=(12, 6))\n",
    "sns.barplot(data=state_distress, x='state_abbr', y='est', hue='est', legend=False, palette='viridis')\n",
    "plt.title('Average Rate of Frequent Mental Distress by State')\n",
    "plt.xlabel('State')\n",
    "plt.ylabel('Frequent Mental Distress Rate (%)')\n",
    "plt.xticks(rotation=45)\n",
    "plt.tight_layout()\n",
    "plt.show()\n"
   ]
  },
  {
   "cell_type": "markdown",
   "id": "0d7b48ef",
   "metadata": {},
   "source": [
    "## 5.\tAre certain states or regions consistently above or below national averages in preventable death metrics?"
   ]
  },
  {
   "cell_type": "code",
   "execution_count": null,
   "id": "63203785",
   "metadata": {},
   "outputs": [],
   "source": [
    "premature = df[df['metric_name'] == 'Premature Deaths (All Causes)']\n",
    "state_avg = premature.groupby('state_abbr')['est'].mean().reset_index()\n",
    "national_avg = premature['est'].mean()\n",
    "\n",
    "state_avg['Above_National'] = state_avg['est'] > national_avg\n",
    "\n",
    "sns.barplot(data=state_avg, x='state_abbr', y='est', hue='Above_National', dodge=False, palette='Set2')"
   ]
  },
  {
   "cell_type": "markdown",
   "id": "07d12c71",
   "metadata": {},
   "source": [
    "## 6.\tDo cities with poor access to dental care also report higher physical distress or chronic disease rates?"
   ]
  },
  {
   "cell_type": "code",
   "execution_count": null,
   "id": "d114986f",
   "metadata": {},
   "outputs": [],
   "source": [
    "dental = df[df['metric_name'] == 'Dental Care'][['geo_name', 'est']].rename(columns={'est': 'dental_care'})\n",
    "physical = df[df['metric_name'] == 'Frequent Physical Distress'][['geo_name', 'est']].rename(columns={'est': 'physical_distress'})\n",
    "\n",
    "merged = dental.merge(physical, on='geo_name')\n",
    "sns.scatterplot(data=merged, x='dental_care', y='physical_distress')\n",
    "sns.regplot(data=merged, x='dental_care', y='physical_distress', scatter=False, color='red')"
   ]
  },
  {
   "cell_type": "markdown",
   "id": "3912ce60",
   "metadata": {},
   "source": [
    "## 7.\tDo health estimates differ significantly between data sources for similar indicators, and why might that be?"
   ]
  },
  {
   "cell_type": "code",
   "execution_count": null,
   "id": "9f029aaf",
   "metadata": {},
   "outputs": [],
   "source": [
    "comparison = df.groupby(['metric_name', 'source_name'])['est'].mean().reset_index()\n",
    "sns.barplot(data=comparison, x='est', y='metric_name', hue='source_name')"
   ]
  },
  {
   "cell_type": "markdown",
   "id": "633107e7",
   "metadata": {},
   "source": [
    "## 8.\tIs there a significant association between lack of dental care and chronic diseases like diabetes?"
   ]
  },
  {
   "cell_type": "code",
   "execution_count": null,
   "id": "cc903189",
   "metadata": {},
   "outputs": [],
   "source": [
    "# Filter relevant metrics\n",
    "relevant_metrics = ['Dental Care', 'Diabetes']\n",
    "filtered = df[df['metric_name'].isin(relevant_metrics)]\n",
    "\n",
    "# Pivot to wide format for comparison\n",
    "pivot_df = filtered.pivot_table(index='geo_name', columns='metric_name', values='est').dropna()\n",
    "\n",
    "# Correlation and scatterplot\n",
    "corr = pivot_df.corr().loc['Dental Care', 'Diabetes']\n",
    "print(f\"Correlation between lack of Dental Care and Diabetes: {corr:.2f}\")\n",
    "\n",
    "# Visualization\n",
    "sns.scatterplot(data=pivot_df, x='Dental Care', y='Diabetes')\n",
    "plt.title(f'Dental Care vs Diabetes Rates by City (r = {corr:.2f})')\n",
    "plt.xlabel('Lack of Dental Care (%)')\n",
    "plt.ylabel('Diabetes Prevalence (%)')\n",
    "plt.grid(True)\n",
    "plt.tight_layout()\n",
    "plt.show()\n"
   ]
  },
  {
   "cell_type": "markdown",
   "id": "eefa8bd1",
   "metadata": {},
   "source": [
    "## 9.\tWhat cities have the highest rates of premature deaths from all causes?"
   ]
  },
  {
   "cell_type": "code",
   "execution_count": null,
   "id": "98d890e7",
   "metadata": {},
   "outputs": [],
   "source": [
    "# Filter for Premature Deaths metric\n",
    "premature_deaths = df[\n",
    "    (df['metric_name'] == 'Premature Deaths (All Causes)')\n",
    "]\n",
    "\n",
    "# Sort and get top 15 cities\n",
    "top_cities = premature_deaths.sort_values(by='est', ascending=False).head(15)\n",
    "\n",
    "# Visualization\n",
    "plt.figure(figsize=(10, 6))\n",
    "sns.barplot(data=top_cities, x='est', y='geo_name', hue='geo_name', legend=False, palette='Reds_r')\n",
    "plt.title('Top 15 Cities by Premature Death Rates')\n",
    "plt.xlabel('Premature Death Rate (per 100,000)')\n",
    "plt.ylabel('City')\n",
    "plt.tight_layout()\n",
    "plt.show()\n"
   ]
  },
  {
   "cell_type": "markdown",
   "id": "90adea40",
   "metadata": {},
   "source": [
    "## 10.\tAre there health disparities between cities in the same state?"
   ]
  },
  {
   "cell_type": "code",
   "execution_count": null,
   "id": "9301e3ee",
   "metadata": {},
   "outputs": [],
   "source": [
    "# Filter for a single metric to compare across cities within states\n",
    "metric = \"Obesity\"\n",
    "metric_df = df[df[\"metric_name\"] == metric]\n",
    "\n",
    "# Plot\n",
    "plt.figure(figsize=(14, 6))\n",
    "sns.boxplot(data=metric_df, x=\"state_abbr\", y=\"est\")\n",
    "plt.title(f\"Distribution of {metric} Rates by State\")\n",
    "plt.ylabel(\"Estimated Rate (%)\")\n",
    "plt.xlabel(\"State\")\n",
    "plt.xticks(rotation=45)\n",
    "plt.tight_layout()\n",
    "plt.show()"
   ]
  },
  {
   "cell_type": "code",
   "execution_count": 6,
   "id": "c2d2eb79",
   "metadata": {},
   "outputs": [
    {
     "data": {
      "text/plain": [
       "PLACES       6893\n",
       "NVSS MCDD    5658\n",
       "NVSS ND       734\n",
       "NJSHAD        131\n",
       "Name: source_name, dtype: int64"
      ]
     },
     "execution_count": 6,
     "metadata": {},
     "output_type": "execute_result"
    }
   ],
   "source": [
    "df['source_name'].value_counts()"
   ]
  },
  {
   "cell_type": "code",
   "execution_count": null,
   "id": "8627dee1",
   "metadata": {},
   "outputs": [],
   "source": []
  }
 ],
 "metadata": {
  "kernelspec": {
   "display_name": "Python 3",
   "language": "python",
   "name": "python3"
  },
  "language_info": {
   "codemirror_mode": {
    "name": "ipython",
    "version": 3
   },
   "file_extension": ".py",
   "mimetype": "text/x-python",
   "name": "python",
   "nbconvert_exporter": "python",
   "pygments_lexer": "ipython3",
   "version": "3.10.13"
  }
 },
 "nbformat": 4,
 "nbformat_minor": 5
}

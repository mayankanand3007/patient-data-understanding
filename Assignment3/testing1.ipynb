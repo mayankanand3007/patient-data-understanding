{
 "cells": [
  {
   "cell_type": "code",
   "execution_count": 28,
   "id": "8e040f44",
   "metadata": {},
   "outputs": [],
   "source": [
    "import pandas as pd"
   ]
  },
  {
   "cell_type": "code",
   "execution_count": 29,
   "id": "25e964b9",
   "metadata": {},
   "outputs": [
    {
     "name": "stderr",
     "output_type": "stream",
     "text": [
      "/var/folders/69/7vt2tpbd52bf3rh1m_fpv59r0000gn/T/ipykernel_36846/2289393662.py:1: DtypeWarning: Columns (16,17,20,21) have mixed types. Specify dtype option on import or set low_memory=False.\n",
      "  df = pd.read_csv('All_states_City_12-03-2024.csv')\n"
     ]
    }
   ],
   "source": [
    "df = pd.read_csv('All_states_City_12-03-2024.csv')"
   ]
  },
  {
   "cell_type": "code",
   "execution_count": 30,
   "id": "576c35e8",
   "metadata": {},
   "outputs": [
    {
     "data": {
      "text/html": [
       "<div>\n",
       "<style scoped>\n",
       "    .dataframe tbody tr th:only-of-type {\n",
       "        vertical-align: middle;\n",
       "    }\n",
       "\n",
       "    .dataframe tbody tr th {\n",
       "        vertical-align: top;\n",
       "    }\n",
       "\n",
       "    .dataframe thead th {\n",
       "        text-align: right;\n",
       "    }\n",
       "</style>\n",
       "<table border=\"1\" class=\"dataframe\">\n",
       "  <thead>\n",
       "    <tr style=\"text-align: right;\">\n",
       "      <th></th>\n",
       "      <th>geo_fips</th>\n",
       "      <th>geo_level</th>\n",
       "      <th>metric_name</th>\n",
       "      <th>group_name</th>\n",
       "      <th>data_period</th>\n",
       "      <th>census_parent_shape_year</th>\n",
       "      <th>num</th>\n",
       "      <th>denom</th>\n",
       "      <th>est</th>\n",
       "      <th>lci</th>\n",
       "      <th>...</th>\n",
       "      <th>state_fips</th>\n",
       "      <th>state_abbr</th>\n",
       "      <th>data_indicator</th>\n",
       "      <th>county_indicator</th>\n",
       "      <th>map_indicator</th>\n",
       "      <th>agg_indicator</th>\n",
       "      <th>period_type</th>\n",
       "      <th>source_name</th>\n",
       "      <th>NCHS_disclaimer</th>\n",
       "      <th>suggested_citation</th>\n",
       "    </tr>\n",
       "  </thead>\n",
       "  <tbody>\n",
       "    <tr>\n",
       "      <th>0</th>\n",
       "      <td>15001</td>\n",
       "      <td>city</td>\n",
       "      <td>Air Pollution - Ozone</td>\n",
       "      <td>Total</td>\n",
       "      <td>202301</td>\n",
       "      <td>2020</td>\n",
       "      <td>-999.0</td>\n",
       "      <td>-999.0</td>\n",
       "      <td>NaN</td>\n",
       "      <td>-999.0</td>\n",
       "      <td>...</td>\n",
       "      <td>15</td>\n",
       "      <td>HI</td>\n",
       "      <td>missing_1</td>\n",
       "      <td>county_1</td>\n",
       "      <td>NaN</td>\n",
       "      <td>aggregation_1</td>\n",
       "      <td>1 month average estimate</td>\n",
       "      <td>GMU</td>\n",
       "      <td>The downloadable data tables shared on the Cit...</td>\n",
       "      <td>Department of Population Health, NYU Langone H...</td>\n",
       "    </tr>\n",
       "    <tr>\n",
       "      <th>1</th>\n",
       "      <td>15001</td>\n",
       "      <td>city</td>\n",
       "      <td>Air Pollution - Ozone</td>\n",
       "      <td>Total</td>\n",
       "      <td>202302</td>\n",
       "      <td>2020</td>\n",
       "      <td>-999.0</td>\n",
       "      <td>-999.0</td>\n",
       "      <td>NaN</td>\n",
       "      <td>-999.0</td>\n",
       "      <td>...</td>\n",
       "      <td>15</td>\n",
       "      <td>HI</td>\n",
       "      <td>missing_1</td>\n",
       "      <td>county_1</td>\n",
       "      <td>NaN</td>\n",
       "      <td>aggregation_1</td>\n",
       "      <td>1 month average estimate</td>\n",
       "      <td>GMU</td>\n",
       "      <td>NaN</td>\n",
       "      <td>NaN</td>\n",
       "    </tr>\n",
       "    <tr>\n",
       "      <th>2</th>\n",
       "      <td>15001</td>\n",
       "      <td>city</td>\n",
       "      <td>Air Pollution - Ozone</td>\n",
       "      <td>Total</td>\n",
       "      <td>202303</td>\n",
       "      <td>2020</td>\n",
       "      <td>-999.0</td>\n",
       "      <td>-999.0</td>\n",
       "      <td>NaN</td>\n",
       "      <td>-999.0</td>\n",
       "      <td>...</td>\n",
       "      <td>15</td>\n",
       "      <td>HI</td>\n",
       "      <td>missing_1</td>\n",
       "      <td>county_1</td>\n",
       "      <td>NaN</td>\n",
       "      <td>aggregation_1</td>\n",
       "      <td>1 month average estimate</td>\n",
       "      <td>GMU</td>\n",
       "      <td>NaN</td>\n",
       "      <td>NaN</td>\n",
       "    </tr>\n",
       "    <tr>\n",
       "      <th>3</th>\n",
       "      <td>15001</td>\n",
       "      <td>city</td>\n",
       "      <td>Air Pollution - Ozone</td>\n",
       "      <td>Total</td>\n",
       "      <td>202304</td>\n",
       "      <td>2020</td>\n",
       "      <td>-999.0</td>\n",
       "      <td>-999.0</td>\n",
       "      <td>NaN</td>\n",
       "      <td>-999.0</td>\n",
       "      <td>...</td>\n",
       "      <td>15</td>\n",
       "      <td>HI</td>\n",
       "      <td>missing_1</td>\n",
       "      <td>county_1</td>\n",
       "      <td>NaN</td>\n",
       "      <td>aggregation_1</td>\n",
       "      <td>1 month average estimate</td>\n",
       "      <td>GMU</td>\n",
       "      <td>NaN</td>\n",
       "      <td>NaN</td>\n",
       "    </tr>\n",
       "    <tr>\n",
       "      <th>4</th>\n",
       "      <td>15001</td>\n",
       "      <td>city</td>\n",
       "      <td>Air Pollution - Ozone</td>\n",
       "      <td>Total</td>\n",
       "      <td>202305</td>\n",
       "      <td>2020</td>\n",
       "      <td>-999.0</td>\n",
       "      <td>-999.0</td>\n",
       "      <td>NaN</td>\n",
       "      <td>-999.0</td>\n",
       "      <td>...</td>\n",
       "      <td>15</td>\n",
       "      <td>HI</td>\n",
       "      <td>missing_1</td>\n",
       "      <td>county_1</td>\n",
       "      <td>NaN</td>\n",
       "      <td>aggregation_1</td>\n",
       "      <td>1 month average estimate</td>\n",
       "      <td>GMU</td>\n",
       "      <td>NaN</td>\n",
       "      <td>NaN</td>\n",
       "    </tr>\n",
       "  </tbody>\n",
       "</table>\n",
       "<p>5 rows × 22 columns</p>\n",
       "</div>"
      ],
      "text/plain": [
       "   geo_fips geo_level            metric_name group_name  data_period  \\\n",
       "0     15001      city  Air Pollution - Ozone      Total       202301   \n",
       "1     15001      city  Air Pollution - Ozone      Total       202302   \n",
       "2     15001      city  Air Pollution - Ozone      Total       202303   \n",
       "3     15001      city  Air Pollution - Ozone      Total       202304   \n",
       "4     15001      city  Air Pollution - Ozone      Total       202305   \n",
       "\n",
       "   census_parent_shape_year    num  denom  est    lci  ...  state_fips  \\\n",
       "0                      2020 -999.0 -999.0  NaN -999.0  ...          15   \n",
       "1                      2020 -999.0 -999.0  NaN -999.0  ...          15   \n",
       "2                      2020 -999.0 -999.0  NaN -999.0  ...          15   \n",
       "3                      2020 -999.0 -999.0  NaN -999.0  ...          15   \n",
       "4                      2020 -999.0 -999.0  NaN -999.0  ...          15   \n",
       "\n",
       "  state_abbr  data_indicator county_indicator map_indicator  agg_indicator  \\\n",
       "0         HI       missing_1         county_1           NaN  aggregation_1   \n",
       "1         HI       missing_1         county_1           NaN  aggregation_1   \n",
       "2         HI       missing_1         county_1           NaN  aggregation_1   \n",
       "3         HI       missing_1         county_1           NaN  aggregation_1   \n",
       "4         HI       missing_1         county_1           NaN  aggregation_1   \n",
       "\n",
       "                period_type source_name  \\\n",
       "0  1 month average estimate         GMU   \n",
       "1  1 month average estimate         GMU   \n",
       "2  1 month average estimate         GMU   \n",
       "3  1 month average estimate         GMU   \n",
       "4  1 month average estimate         GMU   \n",
       "\n",
       "                                     NCHS_disclaimer  \\\n",
       "0  The downloadable data tables shared on the Cit...   \n",
       "1                                                NaN   \n",
       "2                                                NaN   \n",
       "3                                                NaN   \n",
       "4                                                NaN   \n",
       "\n",
       "                                  suggested_citation  \n",
       "0  Department of Population Health, NYU Langone H...  \n",
       "1                                                NaN  \n",
       "2                                                NaN  \n",
       "3                                                NaN  \n",
       "4                                                NaN  \n",
       "\n",
       "[5 rows x 22 columns]"
      ]
     },
     "execution_count": 30,
     "metadata": {},
     "output_type": "execute_result"
    }
   ],
   "source": [
    "df.head()"
   ]
  },
  {
   "cell_type": "code",
   "execution_count": 31,
   "id": "c7873f5e",
   "metadata": {},
   "outputs": [
    {
     "data": {
      "text/plain": [
       "Index(['geo_fips', 'geo_level', 'metric_name', 'group_name', 'data_period',\n",
       "       'census_parent_shape_year', 'num', 'denom', 'est', 'lci', 'uci',\n",
       "       'geo_name', 'state_fips', 'state_abbr', 'data_indicator',\n",
       "       'county_indicator', 'map_indicator', 'agg_indicator', 'period_type',\n",
       "       'source_name', 'NCHS_disclaimer', 'suggested_citation'],\n",
       "      dtype='object')"
      ]
     },
     "execution_count": 31,
     "metadata": {},
     "output_type": "execute_result"
    }
   ],
   "source": [
    "df.columns"
   ]
  },
  {
   "cell_type": "code",
   "execution_count": 32,
   "id": "05f2a59a",
   "metadata": {},
   "outputs": [
    {
     "data": {
      "text/plain": [
       "city    233836\n",
       "Name: geo_level, dtype: int64"
      ]
     },
     "execution_count": 32,
     "metadata": {},
     "output_type": "execute_result"
    }
   ],
   "source": [
    "df['geo_level'].value_counts()"
   ]
  },
  {
   "cell_type": "code",
   "execution_count": 33,
   "id": "0625e29a",
   "metadata": {},
   "outputs": [
    {
     "data": {
      "text/plain": [
       "county_1    632\n",
       "county_2    360\n",
       "Name: county_indicator, dtype: int64"
      ]
     },
     "execution_count": 33,
     "metadata": {},
     "output_type": "execute_result"
    }
   ],
   "source": [
    "df['county_indicator'].value_counts()"
   ]
  },
  {
   "cell_type": "code",
   "execution_count": 45,
   "id": "3d88b0dc",
   "metadata": {},
   "outputs": [
    {
     "data": {
      "text/plain": [
       "map_1    8\n",
       "Name: map_indicator, dtype: int64"
      ]
     },
     "execution_count": 45,
     "metadata": {},
     "output_type": "execute_result"
    }
   ],
   "source": [
    "df['map_indicator'].value_counts()"
   ]
  },
  {
   "cell_type": "code",
   "execution_count": 46,
   "id": "53002f25",
   "metadata": {},
   "outputs": [
    {
     "data": {
      "text/plain": [
       "aggregation_1    31968\n",
       "Name: agg_indicator, dtype: int64"
      ]
     },
     "execution_count": 46,
     "metadata": {},
     "output_type": "execute_result"
    }
   ],
   "source": [
    "df['agg_indicator'].value_counts()"
   ]
  },
  {
   "cell_type": "code",
   "execution_count": 47,
   "id": "75fe3361",
   "metadata": {},
   "outputs": [
    {
     "data": {
      "text/plain": [
       "missing_1     47336\n",
       "cautions_2    10563\n",
       "censor_2       4187\n",
       "cautions_3     2465\n",
       "censor_3        912\n",
       "censor_1        760\n",
       "cautions_1      119\n",
       "Name: data_indicator, dtype: int64"
      ]
     },
     "execution_count": 47,
     "metadata": {},
     "output_type": "execute_result"
    }
   ],
   "source": [
    "df['data_indicator'].value_counts()"
   ]
  },
  {
   "cell_type": "code",
   "execution_count": 34,
   "id": "a300cc73",
   "metadata": {},
   "outputs": [
    {
     "name": "stdout",
     "output_type": "stream",
     "text": [
      "The downloadable data tables shared on the City Health Dashboard website were not released as a micro-level downloadable datasets from NCHS/RDC, rather .csv aggregated data tables whose analyses were conducted per NCHS disclosure requirements in a secure environment and released as approved output. The findings and conclusions on this website are those of the author(s) and do not represent the views of the Research Data Center, the National Center for Health Statistics, or the Centers for Disease Control and Prevention. NCHS does not recommend further analysis of these tables because linking them to individually identifiable data from other NCHS or non-NCHS datasets could potentially cause disclosure. If you believe a disclosure has occurred please contact info@cityhealthdashboard.com and RDCA@cdc.gov.    1\n",
      "Name: NCHS_disclaimer, dtype: int64\n",
      "Department of Population Health, NYU Langone Health. City Health Dashboard. https://www.cityhealthdashboard.com/. Accessed [INSERT DATE OF ACCESS].    1\n",
      "Name: suggested_citation, dtype: int64\n"
     ]
    }
   ],
   "source": [
    "print(df['NCHS_disclaimer'].value_counts())\n",
    "print(df['suggested_citation'].value_counts())"
   ]
  },
  {
   "cell_type": "code",
   "execution_count": null,
   "id": "e77e282c",
   "metadata": {},
   "outputs": [],
   "source": [
    "df = df[['metric_name', 'group_name', 'data_period',\n",
    "       'census_parent_shape_year', 'num', 'denom', 'est', 'lci', 'uci',\n",
    "       'geo_name', 'state_abbr', 'data_indicator', 'period_type',\n",
    "       'source_name']]"
   ]
  },
  {
   "cell_type": "code",
   "execution_count": 36,
   "id": "91a0ed21",
   "metadata": {},
   "outputs": [
    {
     "data": {
      "text/plain": [
       "Index(['metric_name', 'group_name', 'data_period', 'census_parent_shape_year',\n",
       "       'num', 'denom', 'est', 'lci', 'uci', 'geo_name', 'state_abbr',\n",
       "       'data_indicator', 'map_indicator', 'agg_indicator', 'period_type',\n",
       "       'source_name'],\n",
       "      dtype='object')"
      ]
     },
     "execution_count": 36,
     "metadata": {},
     "output_type": "execute_result"
    }
   ],
   "source": [
    "df.columns"
   ]
  },
  {
   "cell_type": "code",
   "execution_count": 38,
   "id": "161a707b",
   "metadata": {},
   "outputs": [
    {
     "data": {
      "text/plain": [
       "metric_name                  object\n",
       "group_name                   object\n",
       "data_period                   int64\n",
       "census_parent_shape_year      int64\n",
       "num                         float64\n",
       "denom                       float64\n",
       "est                         float64\n",
       "lci                         float64\n",
       "uci                         float64\n",
       "geo_name                     object\n",
       "state_abbr                   object\n",
       "data_indicator               object\n",
       "map_indicator                object\n",
       "agg_indicator                object\n",
       "period_type                  object\n",
       "source_name                  object\n",
       "dtype: object"
      ]
     },
     "execution_count": 38,
     "metadata": {},
     "output_type": "execute_result"
    }
   ],
   "source": [
    "df.dtypes"
   ]
  },
  {
   "cell_type": "code",
   "execution_count": 39,
   "id": "d9f1a2df",
   "metadata": {},
   "outputs": [
    {
     "data": {
      "text/html": [
       "<div>\n",
       "<style scoped>\n",
       "    .dataframe tbody tr th:only-of-type {\n",
       "        vertical-align: middle;\n",
       "    }\n",
       "\n",
       "    .dataframe tbody tr th {\n",
       "        vertical-align: top;\n",
       "    }\n",
       "\n",
       "    .dataframe thead th {\n",
       "        text-align: right;\n",
       "    }\n",
       "</style>\n",
       "<table border=\"1\" class=\"dataframe\">\n",
       "  <thead>\n",
       "    <tr style=\"text-align: right;\">\n",
       "      <th></th>\n",
       "      <th>metric_name</th>\n",
       "      <th>group_name</th>\n",
       "      <th>data_period</th>\n",
       "      <th>census_parent_shape_year</th>\n",
       "      <th>num</th>\n",
       "      <th>denom</th>\n",
       "      <th>est</th>\n",
       "      <th>lci</th>\n",
       "      <th>uci</th>\n",
       "      <th>geo_name</th>\n",
       "      <th>state_abbr</th>\n",
       "      <th>data_indicator</th>\n",
       "      <th>map_indicator</th>\n",
       "      <th>agg_indicator</th>\n",
       "      <th>period_type</th>\n",
       "      <th>source_name</th>\n",
       "    </tr>\n",
       "  </thead>\n",
       "  <tbody>\n",
       "    <tr>\n",
       "      <th>0</th>\n",
       "      <td>Air Pollution - Ozone</td>\n",
       "      <td>Total</td>\n",
       "      <td>202301</td>\n",
       "      <td>2020</td>\n",
       "      <td>-999.0</td>\n",
       "      <td>-999.0</td>\n",
       "      <td>NaN</td>\n",
       "      <td>-999.0</td>\n",
       "      <td>-999.0</td>\n",
       "      <td>Hawaii</td>\n",
       "      <td>HI</td>\n",
       "      <td>missing_1</td>\n",
       "      <td>NaN</td>\n",
       "      <td>aggregation_1</td>\n",
       "      <td>1 month average estimate</td>\n",
       "      <td>GMU</td>\n",
       "    </tr>\n",
       "    <tr>\n",
       "      <th>1</th>\n",
       "      <td>Air Pollution - Ozone</td>\n",
       "      <td>Total</td>\n",
       "      <td>202302</td>\n",
       "      <td>2020</td>\n",
       "      <td>-999.0</td>\n",
       "      <td>-999.0</td>\n",
       "      <td>NaN</td>\n",
       "      <td>-999.0</td>\n",
       "      <td>-999.0</td>\n",
       "      <td>Hawaii</td>\n",
       "      <td>HI</td>\n",
       "      <td>missing_1</td>\n",
       "      <td>NaN</td>\n",
       "      <td>aggregation_1</td>\n",
       "      <td>1 month average estimate</td>\n",
       "      <td>GMU</td>\n",
       "    </tr>\n",
       "    <tr>\n",
       "      <th>2</th>\n",
       "      <td>Air Pollution - Ozone</td>\n",
       "      <td>Total</td>\n",
       "      <td>202303</td>\n",
       "      <td>2020</td>\n",
       "      <td>-999.0</td>\n",
       "      <td>-999.0</td>\n",
       "      <td>NaN</td>\n",
       "      <td>-999.0</td>\n",
       "      <td>-999.0</td>\n",
       "      <td>Hawaii</td>\n",
       "      <td>HI</td>\n",
       "      <td>missing_1</td>\n",
       "      <td>NaN</td>\n",
       "      <td>aggregation_1</td>\n",
       "      <td>1 month average estimate</td>\n",
       "      <td>GMU</td>\n",
       "    </tr>\n",
       "    <tr>\n",
       "      <th>3</th>\n",
       "      <td>Air Pollution - Ozone</td>\n",
       "      <td>Total</td>\n",
       "      <td>202304</td>\n",
       "      <td>2020</td>\n",
       "      <td>-999.0</td>\n",
       "      <td>-999.0</td>\n",
       "      <td>NaN</td>\n",
       "      <td>-999.0</td>\n",
       "      <td>-999.0</td>\n",
       "      <td>Hawaii</td>\n",
       "      <td>HI</td>\n",
       "      <td>missing_1</td>\n",
       "      <td>NaN</td>\n",
       "      <td>aggregation_1</td>\n",
       "      <td>1 month average estimate</td>\n",
       "      <td>GMU</td>\n",
       "    </tr>\n",
       "    <tr>\n",
       "      <th>4</th>\n",
       "      <td>Air Pollution - Ozone</td>\n",
       "      <td>Total</td>\n",
       "      <td>202305</td>\n",
       "      <td>2020</td>\n",
       "      <td>-999.0</td>\n",
       "      <td>-999.0</td>\n",
       "      <td>NaN</td>\n",
       "      <td>-999.0</td>\n",
       "      <td>-999.0</td>\n",
       "      <td>Hawaii</td>\n",
       "      <td>HI</td>\n",
       "      <td>missing_1</td>\n",
       "      <td>NaN</td>\n",
       "      <td>aggregation_1</td>\n",
       "      <td>1 month average estimate</td>\n",
       "      <td>GMU</td>\n",
       "    </tr>\n",
       "  </tbody>\n",
       "</table>\n",
       "</div>"
      ],
      "text/plain": [
       "             metric_name group_name  data_period  census_parent_shape_year  \\\n",
       "0  Air Pollution - Ozone      Total       202301                      2020   \n",
       "1  Air Pollution - Ozone      Total       202302                      2020   \n",
       "2  Air Pollution - Ozone      Total       202303                      2020   \n",
       "3  Air Pollution - Ozone      Total       202304                      2020   \n",
       "4  Air Pollution - Ozone      Total       202305                      2020   \n",
       "\n",
       "     num  denom  est    lci    uci geo_name state_abbr data_indicator  \\\n",
       "0 -999.0 -999.0  NaN -999.0 -999.0   Hawaii         HI      missing_1   \n",
       "1 -999.0 -999.0  NaN -999.0 -999.0   Hawaii         HI      missing_1   \n",
       "2 -999.0 -999.0  NaN -999.0 -999.0   Hawaii         HI      missing_1   \n",
       "3 -999.0 -999.0  NaN -999.0 -999.0   Hawaii         HI      missing_1   \n",
       "4 -999.0 -999.0  NaN -999.0 -999.0   Hawaii         HI      missing_1   \n",
       "\n",
       "  map_indicator  agg_indicator               period_type source_name  \n",
       "0           NaN  aggregation_1  1 month average estimate         GMU  \n",
       "1           NaN  aggregation_1  1 month average estimate         GMU  \n",
       "2           NaN  aggregation_1  1 month average estimate         GMU  \n",
       "3           NaN  aggregation_1  1 month average estimate         GMU  \n",
       "4           NaN  aggregation_1  1 month average estimate         GMU  "
      ]
     },
     "execution_count": 39,
     "metadata": {},
     "output_type": "execute_result"
    }
   ],
   "source": [
    "df.head()"
   ]
  },
  {
   "cell_type": "code",
   "execution_count": 44,
   "id": "326aca88",
   "metadata": {},
   "outputs": [
    {
     "data": {
      "text/plain": [
       "Unemployment - Annual, Neighborhood-Level    19854\n",
       "Uninsured                                    14339\n",
       "Unemployment - Current, City-Level           13236\n",
       "High School Completion                       13236\n",
       "Air Pollution - Particulate Matter           13236\n",
       "Air Pollution - Ozone                        13236\n",
       "Chronic Absenteeism                           8824\n",
       "Colorectal Cancer Deaths                      8824\n",
       "Cardiovascular Disease Deaths                 8824\n",
       "Third-Grade Reading Scores                    8824\n",
       "Firearm Homicides                             8824\n",
       "Firearm Suicides                              8824\n",
       "Premature Deaths (All Causes)                 8824\n",
       "Opioid Overdose Deaths                        8824\n",
       "Voter Turnout                                 7721\n",
       "Children in Poverty                           6618\n",
       "Breast Cancer Deaths                          6618\n",
       "Teen Births                                   6618\n",
       "Prenatal Care                                 6618\n",
       "Park Access                                   6618\n",
       "Low Birthweight                               6618\n",
       "Youth Not in Work or School                   3309\n",
       "Independent Living Difficulty                 3309\n",
       "Life Expectancy                               1103\n",
       "Routine Checkup, 18+                          1103\n",
       "Walkability                                   1103\n",
       "Binge Drinking                                1103\n",
       "Broadband Connection                          1103\n",
       "Credit Insecurity Index                       1103\n",
       "Dental Care                                   1103\n",
       "Diabetes                                      1103\n",
       "Frequent Mental Distress                      1103\n",
       "Smoking                                       1103\n",
       "Rent Burden                                   1103\n",
       "Racial/Ethnic Diversity                       1103\n",
       "Frequent Physical Distress                    1103\n",
       "High Blood Pressure                           1103\n",
       "Physical Inactivity                           1103\n",
       "Housing with Potential Lead Risk              1103\n",
       "Income Inequality                             1103\n",
       "Obesity                                       1103\n",
       "Neighborhood Racial/Ethnic Segregation        1103\n",
       "Lead Exposure Risk Index                      1103\n",
       "Name: metric_name, dtype: int64"
      ]
     },
     "execution_count": 44,
     "metadata": {},
     "output_type": "execute_result"
    }
   ],
   "source": [
    "df['metric_name'].value_counts()"
   ]
  },
  {
   "cell_type": "code",
   "execution_count": null,
   "id": "fd2431df",
   "metadata": {},
   "outputs": [],
   "source": []
  }
 ],
 "metadata": {
  "kernelspec": {
   "display_name": "Python 3",
   "language": "python",
   "name": "python3"
  },
  "language_info": {
   "codemirror_mode": {
    "name": "ipython",
    "version": 3
   },
   "file_extension": ".py",
   "mimetype": "text/x-python",
   "name": "python",
   "nbconvert_exporter": "python",
   "pygments_lexer": "ipython3",
   "version": "3.10.13"
  }
 },
 "nbformat": 4,
 "nbformat_minor": 5
}
